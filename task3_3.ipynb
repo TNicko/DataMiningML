{
 "cells": [
  {
   "attachments": {},
   "cell_type": "markdown",
   "metadata": {},
   "source": [
    "### 3.3 Hypothesis Testing\n",
    "\n",
    "Repetition of Task 3.2 using a different model for each dataset. We will use hypothesis testing to compare the performance of the models developed in this task and Task 3.2."
   ]
  },
  {
   "attachments": {},
   "cell_type": "markdown",
   "metadata": {},
   "source": [
    "#### Markdown Question: \n",
    "**Question**: What was the hypothesis you rejected for both datasets in this task? How does p-value affect your decision?"
   ]
  }
 ],
 "metadata": {
  "language_info": {
   "name": "python"
  },
  "orig_nbformat": 4
 },
 "nbformat": 4,
 "nbformat_minor": 2
}
