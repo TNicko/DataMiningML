{
 "cells": [
  {
   "attachments": {},
   "cell_type": "markdown",
   "metadata": {},
   "source": [
    "# 3.2 Classification/Regression\n",
    "\n",
    "Python program to build and test a model for gwp and star dataset, using the dataset obtained from Task 3.1."
   ]
  },
  {
   "cell_type": "code",
   "execution_count": 2,
   "metadata": {},
   "outputs": [],
   "source": [
    "import numpy as np\n",
    "from sklearn.svm import SVR, SVC\n",
    "from sklearn.model_selection import train_test_split\n",
    "from sklearn.preprocessing import MinMaxScaler\n",
    "SEED = 42"
   ]
  },
  {
   "attachments": {},
   "cell_type": "markdown",
   "metadata": {},
   "source": [
    "#### Import data from task3-1.ipynb"
   ]
  },
  {
   "attachments": {},
   "cell_type": "markdown",
   "metadata": {},
   "source": [
    "## GWP Model Implementation "
   ]
  },
  {
   "attachments": {},
   "cell_type": "markdown",
   "metadata": {},
   "source": [
    "### 1. Data preperation"
   ]
  },
  {
   "cell_type": "code",
   "execution_count": 23,
   "metadata": {},
   "outputs": [],
   "source": [
    "# Split the data into training and test sets\n",
    "X_gwp_train, X_gwp_test, y_train, y_test = train_test_split(X_gwp, y_gwp, test_size=0.2, random_state=SEED)\n",
    "\n",
    "# Normalise the data \n",
    "scaler = MinMaxScaler(feature_range=(-1, 1))\n",
    "\n",
    "X_gwp_train_norm = scaler.fit_transform(X_gwp_train)\n",
    "X_gwp_test_norm = scaler.transform(X_gwp_test)"
   ]
  },
  {
   "attachments": {},
   "cell_type": "markdown",
   "metadata": {},
   "source": [
    "### 2. Initializing parameters\n",
    "We will be using a Support Vector Regression (SVR) model for gwp dataset. Here we define the different type of parametes we will be running the model on."
   ]
  },
  {
   "cell_type": "code",
   "execution_count": 24,
   "metadata": {},
   "outputs": [],
   "source": [
    "# Initialize the SVR model parammeters\n",
    "kernels = ['rbf', 'linear', 'poly','rbf', 'sigmoid']\n",
    "# Cs= [1, 10, 100, 1000]\n",
    "# gammas = [0.1, 0.01, 0.001, 0.0001]\n",
    "# epsilons = [0.01, 0.1, 0.2, 0.5]"
   ]
  },
  {
   "attachments": {},
   "cell_type": "markdown",
   "metadata": {},
   "source": [
    "### 3. Training our model"
   ]
  },
  {
   "cell_type": "code",
   "execution_count": 25,
   "metadata": {},
   "outputs": [
    {
     "name": "stdout",
     "output_type": "stream",
     "text": [
      "rbf score:  0.3320386709258413\n",
      "linear score:  0.14644177675128467\n",
      "poly score:  0.3429537640397037\n",
      "rbf score:  0.3320386709258413\n",
      "sigmoid score:  -1192.4985382569905\n"
     ]
    }
   ],
   "source": [
    "for kernel in kernels:\n",
    "    svr = SVR(kernel=kernel)\n",
    "    svr.fit(X_gwp_train_norm, y_train)\n",
    "    print(kernel, \"score: \", svr.score(X_gwp_test_norm, y_test))\n"
   ]
  },
  {
   "attachments": {},
   "cell_type": "markdown",
   "metadata": {},
   "source": [
    "### Star Model Implementation using SVC"
   ]
  },
  {
   "cell_type": "code",
   "execution_count": null,
   "metadata": {},
   "outputs": [],
   "source": [
    "for kernel in kernels:\n",
    "    svr = SVC(kernel=kernel)\n",
    "    svr.fit(X_gwp_train_norm, y_train)\n",
    "    print(kernel, \"score: \", svr.score(X_gwp_test_norm, y_test))"
   ]
  },
  {
   "attachments": {},
   "cell_type": "markdown",
   "metadata": {},
   "source": [
    "#### Markdown Question: \n",
    "**Question**: Is Linear Regression a good model to use for the star dataset? Justify your answer."
   ]
  }
 ],
 "metadata": {
  "kernelspec": {
   "display_name": ".venv",
   "language": "python",
   "name": "python3"
  },
  "language_info": {
   "codemirror_mode": {
    "name": "ipython",
    "version": 3
   },
   "file_extension": ".py",
   "mimetype": "text/x-python",
   "name": "python",
   "nbconvert_exporter": "python",
   "pygments_lexer": "ipython3",
   "version": "3.10.8"
  },
  "orig_nbformat": 4
 },
 "nbformat": 4,
 "nbformat_minor": 2
}
