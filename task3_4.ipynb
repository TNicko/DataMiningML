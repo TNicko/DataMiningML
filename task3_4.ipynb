{
 "cells": [
  {
   "attachments": {},
   "cell_type": "markdown",
   "metadata": {},
   "source": [
    "### 3.4 Clustering\n",
    "\n",
    "Python program to evaluate performance using clustering on the datasets obtained in Task 3.1."
   ]
  },
  {
   "cell_type": "code",
   "execution_count": 7,
   "metadata": {},
   "outputs": [
    {
     "name": "stdout",
     "output_type": "stream",
     "text": [
      "The autoreload extension is already loaded. To reload it, use:\n",
      "  %reload_ext autoreload\n"
     ]
    }
   ],
   "source": [
    "from sklearn.model_selection import train_test_split\n",
    "from sklearn.cluster import KMeans\n",
    "\n",
    "%load_ext autoreload\n",
    "%autoreload 2\n",
    "\n",
    "import bamboo.gwp_pipeline as gwp\n",
    "import bamboo.star_pipeline as star\n",
    "from bamboo.processing import read_csv, split_features_and_target, get_feature_and_target_names\n",
    "from bamboo.analysis import *\n",
    "from bamboo.selection import normalize_data\n",
    "\n",
    "SEED = 42\n",
    "\n",
    "GWP_CSV = 'datasets/gwp_assessment.csv'\n",
    "STAR_CSV = 'datasets/star_assessment.csv'"
   ]
  },
  {
   "attachments": {},
   "cell_type": "markdown",
   "metadata": {},
   "source": [
    "## Dataset Preperation"
   ]
  },
  {
   "cell_type": "code",
   "execution_count": 6,
   "metadata": {},
   "outputs": [],
   "source": [
    "# Load and process GWP from csv\n",
    "gwp_data = read_csv(GWP_CSV)\n",
    "gwp_dataset = gwp.gwp_pipeline(gwp_data)\n",
    "\n",
    "X_gwp, y_gwp = split_features_and_target(gwp_dataset)\n",
    "X_gwp_names, y_gwp_name = get_feature_and_target_names(gwp_dataset)\n",
    "X_gwp_train, X_gwp_test, y_gwp_train, y_gwp_test = train_test_split(X_gwp, y_gwp, test_size=0.2, random_state=SEED)\n",
    "X_gwp_train, X_gwp_test = normalize_data(X_gwp_train, X_gwp_test)\n",
    "\n",
    "# Load and process Star from csv\n",
    "star_data = read_csv(STAR_CSV)\n",
    "star_dataset = star.star_pipeline(star_data)\n",
    "\n",
    "X_star, y_star = split_features_and_target(star_dataset)\n",
    "X_star_names, y_star_name = get_feature_and_target_names(star_dataset)\n",
    "X_star_train, X_star_test, y_star_train, y_star_test = train_test_split(X_star, y_star, test_size=0.2, random_state=SEED)\n",
    "X_star_train, X_star_test = normalize_data(X_star_train, X_star_test)"
   ]
  },
  {
   "attachments": {},
   "cell_type": "markdown",
   "metadata": {},
   "source": [
    "## K-Means Clustering"
   ]
  },
  {
   "cell_type": "code",
   "execution_count": null,
   "metadata": {},
   "outputs": [],
   "source": [
    "# Define the number of clusters\n",
    "num_clusters = 3\n",
    "\n",
    "# Perform kmeans clustering\n",
    "kmeans_gwp = KMeans(n_clusters=num_clusters, random_state=SEED).fit(X_gwp_train)\n",
    "kmeans_star = KMeans(n_clusters=num_clusters, random_state=SEED).fit(X_star_train)\n"
   ]
  },
  {
   "attachments": {},
   "cell_type": "markdown",
   "metadata": {},
   "source": [
    "#### Markdown Question: \n",
    "**Question**: Between clustering and classification algorithms, which one performed better for star dataset. Justify your answer."
   ]
  }
 ],
 "metadata": {
  "kernelspec": {
   "display_name": ".venv",
   "language": "python",
   "name": "python3"
  },
  "language_info": {
   "codemirror_mode": {
    "name": "ipython",
    "version": 3
   },
   "file_extension": ".py",
   "mimetype": "text/x-python",
   "name": "python",
   "nbconvert_exporter": "python",
   "pygments_lexer": "ipython3",
   "version": "3.10.8"
  },
  "orig_nbformat": 4
 },
 "nbformat": 4,
 "nbformat_minor": 2
}
