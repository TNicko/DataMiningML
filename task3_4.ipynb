{
 "cells": [
  {
   "attachments": {},
   "cell_type": "markdown",
   "metadata": {},
   "source": [
    "### 3.4 Clustering\n",
    "\n",
    "Python program to evaluate performance using clustering on the datasets obtained in Task 3.1."
   ]
  },
  {
   "cell_type": "code",
   "execution_count": null,
   "metadata": {},
   "outputs": [],
   "source": [
    "%load_ext autoreload\n",
    "%autoreload 2\n",
    "\n",
    "import bamboo.gwp_pipeline as gwp\n",
    "import bamboo.star_pipeline as star\n",
    "from bamboo.processing import read_csv, split_features_and_target, get_feature_and_target_names\n",
    "from bamboo.analysis import *\n",
    "\n",
    "SEED = 42\n",
    "\n",
    "GWP_CSV = 'datasets/gwp_assessment.csv'\n",
    "STAR_CSV = 'datasets/star_assessment.csv'"
   ]
  },
  {
   "attachments": {},
   "cell_type": "markdown",
   "metadata": {},
   "source": [
    "### Load Datasets"
   ]
  },
  {
   "cell_type": "code",
   "execution_count": null,
   "metadata": {},
   "outputs": [],
   "source": [
    "# Load and process GWP from csv\n",
    "gwp_data = read_csv(GWP_CSV)\n",
    "gwp_dataset = gwp.gwp_pipeline(gwp_data)\n",
    "\n",
    "# Load and process Star from csv\n",
    "star_data = read_csv(STAR_CSV)\n",
    "star_dataset = star.star_pipeline(star_data)"
   ]
  },
  {
   "attachments": {},
   "cell_type": "markdown",
   "metadata": {},
   "source": [
    "#### Markdown Question: \n",
    "**Question**: Between clustering and classification algorithms, which one performed better for star dataset. Justify your answer."
   ]
  }
 ],
 "metadata": {
  "kernelspec": {
   "display_name": ".venv",
   "language": "python",
   "name": "python3"
  },
  "language_info": {
   "name": "python",
   "version": "3.10.8"
  },
  "orig_nbformat": 4
 },
 "nbformat": 4,
 "nbformat_minor": 2
}
